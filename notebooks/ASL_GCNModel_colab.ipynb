{
  "nbformat": 4,
  "nbformat_minor": 0,
  "metadata": {
    "colab": {
      "provenance": [],
      "gpuType": "T4"
    },
    "kernelspec": {
      "name": "python3",
      "display_name": "Python 3"
    },
    "language_info": {
      "name": "python"
    },
    "accelerator": "GPU"
  },
  "cells": [
    {
      "cell_type": "code",
      "source": [
        "!rm -rf *"
      ],
      "metadata": {
        "id": "6u0TmEdgzKsN"
      },
      "execution_count": 58,
      "outputs": []
    },
    {
      "cell_type": "code",
      "source": [
        "!pip install torch_geometric"
      ],
      "metadata": {
        "colab": {
          "base_uri": "https://localhost:8080/"
        },
        "id": "1uxJgQPIwoZU",
        "outputId": "62085daa-4858-4286-96b1-275e3ccefc11"
      },
      "execution_count": 59,
      "outputs": [
        {
          "output_type": "stream",
          "name": "stdout",
          "text": [
            "Requirement already satisfied: torch_geometric in /usr/local/lib/python3.10/dist-packages (2.5.3)\n",
            "Requirement already satisfied: tqdm in /usr/local/lib/python3.10/dist-packages (from torch_geometric) (4.66.4)\n",
            "Requirement already satisfied: numpy in /usr/local/lib/python3.10/dist-packages (from torch_geometric) (1.25.2)\n",
            "Requirement already satisfied: scipy in /usr/local/lib/python3.10/dist-packages (from torch_geometric) (1.11.4)\n",
            "Requirement already satisfied: fsspec in /usr/local/lib/python3.10/dist-packages (from torch_geometric) (2023.6.0)\n",
            "Requirement already satisfied: jinja2 in /usr/local/lib/python3.10/dist-packages (from torch_geometric) (3.1.4)\n",
            "Requirement already satisfied: aiohttp in /usr/local/lib/python3.10/dist-packages (from torch_geometric) (3.9.5)\n",
            "Requirement already satisfied: requests in /usr/local/lib/python3.10/dist-packages (from torch_geometric) (2.31.0)\n",
            "Requirement already satisfied: pyparsing in /usr/local/lib/python3.10/dist-packages (from torch_geometric) (3.1.2)\n",
            "Requirement already satisfied: scikit-learn in /usr/local/lib/python3.10/dist-packages (from torch_geometric) (1.2.2)\n",
            "Requirement already satisfied: psutil>=5.8.0 in /usr/local/lib/python3.10/dist-packages (from torch_geometric) (5.9.5)\n",
            "Requirement already satisfied: aiosignal>=1.1.2 in /usr/local/lib/python3.10/dist-packages (from aiohttp->torch_geometric) (1.3.1)\n",
            "Requirement already satisfied: attrs>=17.3.0 in /usr/local/lib/python3.10/dist-packages (from aiohttp->torch_geometric) (23.2.0)\n",
            "Requirement already satisfied: frozenlist>=1.1.1 in /usr/local/lib/python3.10/dist-packages (from aiohttp->torch_geometric) (1.4.1)\n",
            "Requirement already satisfied: multidict<7.0,>=4.5 in /usr/local/lib/python3.10/dist-packages (from aiohttp->torch_geometric) (6.0.5)\n",
            "Requirement already satisfied: yarl<2.0,>=1.0 in /usr/local/lib/python3.10/dist-packages (from aiohttp->torch_geometric) (1.9.4)\n",
            "Requirement already satisfied: async-timeout<5.0,>=4.0 in /usr/local/lib/python3.10/dist-packages (from aiohttp->torch_geometric) (4.0.3)\n",
            "Requirement already satisfied: MarkupSafe>=2.0 in /usr/local/lib/python3.10/dist-packages (from jinja2->torch_geometric) (2.1.5)\n",
            "Requirement already satisfied: charset-normalizer<4,>=2 in /usr/local/lib/python3.10/dist-packages (from requests->torch_geometric) (3.3.2)\n",
            "Requirement already satisfied: idna<4,>=2.5 in /usr/local/lib/python3.10/dist-packages (from requests->torch_geometric) (3.7)\n",
            "Requirement already satisfied: urllib3<3,>=1.21.1 in /usr/local/lib/python3.10/dist-packages (from requests->torch_geometric) (2.0.7)\n",
            "Requirement already satisfied: certifi>=2017.4.17 in /usr/local/lib/python3.10/dist-packages (from requests->torch_geometric) (2024.2.2)\n",
            "Requirement already satisfied: joblib>=1.1.1 in /usr/local/lib/python3.10/dist-packages (from scikit-learn->torch_geometric) (1.4.2)\n",
            "Requirement already satisfied: threadpoolctl>=2.0.0 in /usr/local/lib/python3.10/dist-packages (from scikit-learn->torch_geometric) (3.5.0)\n"
          ]
        }
      ]
    },
    {
      "cell_type": "code",
      "execution_count": 60,
      "metadata": {
        "colab": {
          "base_uri": "https://localhost:8080/"
        },
        "id": "adMtbbuywJll",
        "outputId": "980badad-7212-4f96-aab9-08741841cf1b"
      },
      "outputs": [
        {
          "output_type": "stream",
          "name": "stdout",
          "text": [
            "Cloning into 'Sign-Language-Translation-using-Deep-Learning'...\n",
            "remote: Enumerating objects: 272, done.\u001b[K\n",
            "remote: Counting objects: 100% (272/272), done.\u001b[K\n",
            "remote: Compressing objects: 100% (197/197), done.\u001b[K\n",
            "remote: Total 272 (delta 87), reused 233 (delta 53), pack-reused 0\u001b[K\n",
            "Receiving objects: 100% (272/272), 12.94 MiB | 16.95 MiB/s, done.\n",
            "Resolving deltas: 100% (87/87), done.\n"
          ]
        }
      ],
      "source": [
        "!git clone https://github.com/JamorMoussa/Sign-Language-Translation-using-Deep-Learning.git"
      ]
    },
    {
      "cell_type": "code",
      "source": [
        "!mv /content/Sign-Language-Translation-using-Deep-Learning/* ."
      ],
      "metadata": {
        "id": "jVYZ8sP-wUSl"
      },
      "execution_count": 61,
      "outputs": []
    },
    {
      "cell_type": "code",
      "source": [
        "!rm -rf /content/Sign-Language-Translation-using-Deep-Learning"
      ],
      "metadata": {
        "id": "BOKDbb82wZA5"
      },
      "execution_count": 62,
      "outputs": []
    },
    {
      "cell_type": "code",
      "source": [
        "!python3 train_gcn.py --epochs=100 --lr=0.001 --train_batch=124 --test_batch=128"
      ],
      "metadata": {
        "colab": {
          "base_uri": "https://localhost:8080/"
        },
        "id": "X9GhrCh9wfgu",
        "outputId": "39f21b9f-13e1-400f-d5ee-87d177a50884"
      },
      "execution_count": 69,
      "outputs": [
        {
          "output_type": "stream",
          "name": "stdout",
          "text": [
            "\r  0% 0/100 [00:00<?, ?it/s]/usr/local/lib/python3.10/dist-packages/torch_geometric/warnings.py:11: UserWarning: The usage of `scatter(reduce='max')` can be accelerated via the 'torch-scatter' package, but it was not found\n",
            "  warnings.warn(message)\n",
            "Train Loss: 150.2217 | Test Loss: 21.6487 | Train Acc:0.692 | Test Acc: 0.704 |: 100% 100/100 [04:56<00:00,  2.96s/it]\n"
          ]
        }
      ]
    },
    {
      "cell_type": "code",
      "source": [
        "!zip -r reports.zip reports/*"
      ],
      "metadata": {
        "colab": {
          "base_uri": "https://localhost:8080/"
        },
        "id": "nlelsohf1LU4",
        "outputId": "c6f6852b-416e-4cd6-b0cb-62600624e73d"
      },
      "execution_count": 71,
      "outputs": [
        {
          "output_type": "stream",
          "name": "stdout",
          "text": [
            "  adding: reports/gcn/ (stored 0%)\n",
            "  adding: reports/gcn/train_0/ (stored 0%)\n",
            "  adding: reports/gcn/train_0/configs_gcn.json (deflated 69%)\n",
            "  adding: reports/gcn/train_0/results_gcn.json (deflated 61%)\n",
            "  adding: reports/gcn/train_0/accuracy_plt.png (deflated 9%)\n",
            "  adding: reports/gcn/train_0/GCNModel_train-acc_0.204_test-acc_0.188.pt (deflated 19%)\n",
            "  adding: reports/gcn/train_0/model_architecture.txt (deflated 68%)\n",
            "  adding: reports/gcn/train_0/loss_plot.png (deflated 16%)\n",
            "  adding: reports/gcn/train_5/ (stored 0%)\n",
            "  adding: reports/gcn/train_5/configs_gcn.json (deflated 32%)\n",
            "  adding: reports/gcn/train_5/GCNModel_train-acc_0.723_test-acc_0.676.pt (deflated 17%)\n",
            "  adding: reports/gcn/train_5/results_gcn.json (deflated 67%)\n",
            "  adding: reports/gcn/train_5/accuracy_plt.png (deflated 5%)\n",
            "  adding: reports/gcn/train_5/model_architecture.txt (deflated 69%)\n",
            "  adding: reports/gcn/train_5/loss_plot.png (deflated 6%)\n",
            "  adding: reports/gcn/train_1/ (stored 0%)\n",
            "  adding: reports/gcn/train_1/configs_gcn.json (deflated 29%)\n",
            "  adding: reports/gcn/train_1/results_gcn.json (deflated 33%)\n",
            "  adding: reports/gcn/train_1/accuracy_plt.png (deflated 11%)\n",
            "  adding: reports/gcn/train_1/GCNModel_train-acc_0.129_test-acc_0.131.pt (deflated 19%)\n",
            "  adding: reports/gcn/train_1/model_architecture.txt (deflated 68%)\n",
            "  adding: reports/gcn/train_1/loss_plot.png (deflated 23%)\n",
            "  adding: reports/gcn/train_6/ (stored 0%)\n",
            "  adding: reports/gcn/train_6/configs_gcn.json (deflated 32%)\n",
            "  adding: reports/gcn/train_6/results_gcn.json (deflated 56%)\n",
            "  adding: reports/gcn/train_6/accuracy_plt.png (deflated 7%)\n",
            "  adding: reports/gcn/train_6/model_architecture.txt (deflated 69%)\n",
            "  adding: reports/gcn/train_6/GCNModel_train-acc_0.692_test-acc_0.704.pt (deflated 17%)\n",
            "  adding: reports/gcn/train_6/loss_plot.png (deflated 10%)\n",
            "  adding: reports/gcn/train_3/ (stored 0%)\n",
            "  adding: reports/gcn/train_3/configs_gcn.json (deflated 33%)\n",
            "  adding: reports/gcn/train_3/results_gcn.json (deflated 67%)\n",
            "  adding: reports/gcn/train_3/accuracy_plt.png (deflated 5%)\n",
            "  adding: reports/gcn/train_3/model_architecture.txt (deflated 70%)\n",
            "  adding: reports/gcn/train_3/GCNModel_train-acc_0.743_test-acc_0.686.pt (deflated 14%)\n",
            "  adding: reports/gcn/train_3/loss_plot.png (deflated 5%)\n",
            "  adding: reports/gcn/train_4/ (stored 0%)\n",
            "  adding: reports/gcn/train_4/configs_gcn.json (deflated 32%)\n",
            "  adding: reports/gcn/train_4/results_gcn.json (deflated 68%)\n",
            "  adding: reports/gcn/train_4/accuracy_plt.png (deflated 5%)\n",
            "  adding: reports/gcn/train_4/model_architecture.txt (deflated 69%)\n",
            "  adding: reports/gcn/train_4/GCNModel_train-acc_0.628_test-acc_0.581.pt (deflated 17%)\n",
            "  adding: reports/gcn/train_4/loss_plot.png (deflated 5%)\n",
            "  adding: reports/gcn/train_2/ (stored 0%)\n",
            "  adding: reports/gcn/train_2/configs_gcn.json (deflated 30%)\n",
            "  adding: reports/gcn/train_2/results_gcn.json (deflated 35%)\n",
            "  adding: reports/gcn/train_2/accuracy_plt.png (deflated 12%)\n",
            "  adding: reports/gcn/train_2/model_architecture.txt (deflated 64%)\n",
            "  adding: reports/gcn/train_2/GCNModel_train-acc_0.123_test-acc_0.118.pt (deflated 19%)\n",
            "  adding: reports/gcn/train_2/loss_plot.png (deflated 22%)\n",
            "  adding: reports/test.txt (stored 0%)\n"
          ]
        }
      ]
    },
    {
      "cell_type": "code",
      "source": [],
      "metadata": {
        "id": "dXN40XEW1O_d"
      },
      "execution_count": null,
      "outputs": []
    }
  ]
}